{
 "cells": [
  {
   "cell_type": "code",
   "execution_count": 1,
   "metadata": {},
   "outputs": [],
   "source": [
    "import libvirt\n",
    "import sys\n",
    "import threading\n",
    "import socket\n",
    "import ast\n",
    "from datetime import datetime\n",
    "import time\n",
    "import hashlib\n",
    "from random import shuffle\n",
    "import struct"
   ]
  },
  {
   "cell_type": "code",
   "execution_count": 2,
   "metadata": {},
   "outputs": [
    {
     "data": {
      "text/plain": [
       "'ankita-ThinkPad-E490'"
      ]
     },
     "execution_count": 2,
     "metadata": {},
     "output_type": "execute_result"
    }
   ],
   "source": [
    "conn = libvirt.open('qemu:///system')\n",
    "conn.getHostname()"
   ]
  },
  {
   "cell_type": "code",
   "execution_count": 3,
   "metadata": {},
   "outputs": [
    {
     "data": {
      "text/plain": [
       "16"
      ]
     },
     "execution_count": 3,
     "metadata": {},
     "output_type": "execute_result"
    }
   ],
   "source": [
    "conn.getMaxVcpus('qemu')"
   ]
  },
  {
   "cell_type": "code",
   "execution_count": 4,
   "metadata": {},
   "outputs": [
    {
     "data": {
      "text/plain": [
<<<<<<< HEAD
       "[1]"
=======
       "[2]"
>>>>>>> 4452cd4f93426132f7e6f17ede860d30a6b35499
      ]
     },
     "execution_count": 4,
     "metadata": {},
     "output_type": "execute_result"
    }
   ],
   "source": [
    "#print(conn.getSysinfo()) //get system information\n",
    "conn.listDomainsID()"
   ]
  },
  {
   "cell_type": "code",
   "execution_count": 5,
   "metadata": {},
   "outputs": [],
   "source": [
    "'''\n",
    "See information about active VMs\n",
    "'''\n",
    "def active_VM_info():\n",
    "    domainIDs = conn.listDomainsID()\n",
    "    for domainID in domainIDs:\n",
    "        domain = conn.lookupByID(domainID)\n",
    "        uuid = domain.UUIDString()\n",
    "        print(\"INFORMATION FOR DOMAIN :\",uuid)\n",
    "        print(domain.info())\n",
    "        print(domain.OSType())\n",
    "        print(domain.getCPUStats(total=5))\n",
    "        print(domain.jobStats())\n",
    "    "
   ]
  },
  {
   "cell_type": "code",
   "execution_count": 6,
   "metadata": {},
   "outputs": [
    {
     "name": "stdout",
     "output_type": "stream",
     "text": [
      "INFORMATION FOR DOMAIN : eaa5870f-be68-4e93-9274-d1351a3fef0a\n",
<<<<<<< HEAD
      "[1, 1048576, 1048576, 1, 83230000000]\n",
      "hvm\n",
      "[{'cpu_time': 83768071867, 'user_time': 2180000000, 'system_time': 7900000000}]\n",
=======
      "[1, 1048576, 1048576, 1, 2052290000000]\n",
      "hvm\n",
      "[{'cpu_time': 2061616326712, 'user_time': 122530000000, 'system_time': 280510000000}]\n",
>>>>>>> 4452cd4f93426132f7e6f17ede860d30a6b35499
      "{'type': 0}\n"
     ]
    }
   ],
   "source": [
    "active_VM_info()"
   ]
  },
  {
   "cell_type": "code",
   "execution_count": 7,
   "metadata": {},
   "outputs": [],
   "source": [
    "'''\n",
    "Spawn a new VM\n",
    "'''\n",
    "def spawn():\n",
    "    dom0 = conn.lookupByName('ubuntu18.04-3')\n",
    "    dom0.create()"
   ]
  },
  {
   "cell_type": "code",
   "execution_count": 8,
   "metadata": {},
   "outputs": [],
   "source": [
    "#spawn()"
   ]
  },
  {
   "cell_type": "code",
   "execution_count": 9,
   "metadata": {},
   "outputs": [],
   "source": [
    "'''\n",
    "Calculate CPU usage\n",
    "'''\n",
    "def calc_CPU_usage(VM_name):\n",
    "    dom0 = conn.lookupByName(VM_name)\n",
    "    cpu_time_in = dom0.getCPUStats(1)[0]['cpu_time']\n",
    "    time.sleep(1)\n",
    "    avg_cpututil =0;\n",
    "    for i in range(0,5):\n",
    "        cpu_time_fin = dom0.getCPUStats(1)[0]['cpu_time']\n",
    "        #print(dom0.getCPUStats(1))\n",
    "        delta = cpu_time_fin-cpu_time_in\n",
    "        avg_cpututil +=delta\n",
    "        cpu_time_in = cpu_time_fin\n",
    "        time.sleep(1)\n",
    "    return 100*avg_cpututil/(5*1000000000)"
   ]
  },
  {
   "cell_type": "code",
   "execution_count": 10,
   "metadata": {
    "scrolled": true
   },
   "outputs": [
    {
     "name": "stdout",
     "output_type": "stream",
     "text": [
<<<<<<< HEAD
      "0.3359279\n"
=======
      "75.14775208\n"
>>>>>>> 4452cd4f93426132f7e6f17ede860d30a6b35499
     ]
    }
   ],
   "source": [
    "#print(calc_CPU_usage('ubuntu18.04'))\n",
    "#dom0.getCPUStats(1)[0]['cpu_time']\n",
    "print(calc_CPU_usage('ubuntu18.04-2'))"
   ]
  },
  {
   "cell_type": "markdown",
   "metadata": {},
   "source": [
    "Normally for a process on Linux, the overall CPU usage is simply the sum of the time spent in userspace and the time spent on kernel space. So naively one would have expected user_time + system_time to equal cpu_time. What I've discovered is that Linux tracks time spent by vCPU threads executing guest code separately from either userspace or kernelspace time.\n",
    "\n",
    "Thus cpu_time == user_time + system_time + guest_time\n",
    "\n",
    "So you can think of system_time + user_time as giving the overhead of QEMU / KVM on the host side. And cpu_time - (user_time + system_time) as giving the actual amount of time the guest OS was running its CPUs.\n",
    "\n",
    "To calculate CPU usage, you probably just want to record cpu_time every N seconds and calculate the delta between two samples. eg usage % = 100 * (cpu_time 2 - cpu_time 1) / N"
   ]
  },
  {
   "cell_type": "code",
   "execution_count": 11,
   "metadata": {},
   "outputs": [],
   "source": [
    "\n",
    "# f = open(\"abc.txt\", \"r\")\n",
    "# xmlconfig = f.read()\n",
    "# dom = conn.createXML(xmlconfig, 0)\n",
    "# if dom == None:\n",
    "#     print('Failed to create a domain from an XML definition.', file=sys.stderr)\n",
    "#     exit(1)\n",
    "\n",
    "# '''\n",
    "# The xml file used above does not contain any disk storage\n",
    "# Will need to declare it later\n",
    "# '''\n",
    "# # if dom.create() < 0:\n",
    "# #     print('Can not boot guest domain.', file=sys.stderr)\n",
    "# #     exit(1)\n",
    "# print('Guest '+dom.name()+' has booted', file=sys.stderr)\n"
   ]
  },
  {
   "cell_type": "code",
   "execution_count": null,
   "metadata": {},
   "outputs": [],
   "source": []
  },
  {
   "cell_type": "code",
<<<<<<< HEAD
   "execution_count": 14,
=======
   "execution_count": 12,
>>>>>>> 4452cd4f93426132f7e6f17ede860d30a6b35499
   "metadata": {},
   "outputs": [],
   "source": [
    "\n",
    "'''\n",
    "To notify client about new VM\n",
    "'''\n",
    "\n",
    "IPAddr = \"127.0.1.1\"\n",
    "port = 10010\n",
    "\n",
    "client_ip =\"0.0.0.0\"\n",
    "#client_ip =\"192.168.122.186\"\n",
    "client_port=10011\n",
    "\n",
    "def notify_client():\n",
    "    \n",
    "    while True:\n",
    "        k=0\n",
    "        connected_seeds=0\n",
    "        node = \"\"\n",
    "        for i in range(0,5):\n",
    "            try: #get other peers info from seed node(s)\n",
    "                s = socket.socket(socket.AF_INET, socket.SOCK_STREAM)\n",
    "                s.connect((client_ip, client_port))\n",
    "                print(\"Connected to client node:\", client_ip)\n",
    "                values = (b'news', port)\n",
    "                packer = struct.Struct('4s I')\n",
    "                packed_data = packer.pack(*values)\n",
<<<<<<< HEAD
    "                for j in range(0,5):\n",
    "                    s.sendall(packed_data)\n",
    "                    time.sleep(0.12)\n",
    "#                 data = s.recv(1024)\n",
    "#                 data = data.decode('utf-8')\n",
=======
    "                for j in range(0,10):\n",
    "                    s.sendall(packed_data)\n",
    "                    time.sleep(0.12)\n",
    "                data = s.recv(1024)\n",
    "                data = data.decode('utf-8')\n",
>>>>>>> 4452cd4f93426132f7e6f17ede860d30a6b35499
    "                s.close()\n",
    "                break\n",
    "            except:\n",
    "                print(\"Error while connection to seed node or fetching Peer list:\", sys.exc_info()[1])\n",
    "                k+=1\n",
    "                s.close()\n",
    "                continue\n",
    "        \n",
    "\n",
    "        break\n",
    "        print(\"Retrying after 5 sec...\")\n",
    "        time.sleep(5)"
   ]
  },
  {
   "cell_type": "code",
   "execution_count": null,
   "metadata": {
    "scrolled": true
   },
   "outputs": [],
   "source": []
  },
  {
   "cell_type": "code",
<<<<<<< HEAD
   "execution_count": 15,
=======
   "execution_count": null,
>>>>>>> 4452cd4f93426132f7e6f17ede860d30a6b35499
   "metadata": {},
   "outputs": [
    {
     "name": "stdout",
     "output_type": "stream",
     "text": [
<<<<<<< HEAD
      "0.40190522\n",
      "0.3993688\n",
      "0.56877914\n",
      "0.52058532\n",
      "32.12924236\n",
      "36.14964578\n",
      "35.89082896\n",
      "37.03356956\n",
      "40.55256488\n",
      "39.32658394\n",
      "34.50539018\n",
      "29.1190658\n",
      "0.2074232\n",
      "0.56556764\n",
      "2.0509364\n",
      "70.30714942\n",
      "Time to spawn a new VM!\n",
      "Time to notify client!\n",
      "Connected to client node: 0.0.0.0\n",
      "32.11191396\n",
      "38.01824138\n",
      "36.50325336\n",
      "26.23615252\n",
      "37.94014886\n",
      "25.28952104\n",
      "0.3829523\n"
     ]
    },
    {
     "ename": "libvirtError",
     "evalue": "Requested operation is not valid: domain is not running",
     "output_type": "error",
     "traceback": [
      "\u001b[0;31m---------------------------------------------------------------------------\u001b[0m",
      "\u001b[0;31mlibvirtError\u001b[0m                              Traceback (most recent call last)",
      "\u001b[0;32m<ipython-input-15-b8f948508417>\u001b[0m in \u001b[0;36m<module>\u001b[0;34m()\u001b[0m\n\u001b[1;32m      1\u001b[0m \u001b[0;32mwhile\u001b[0m \u001b[0;32mTrue\u001b[0m\u001b[0;34m:\u001b[0m\u001b[0;34m\u001b[0m\u001b[0;34m\u001b[0m\u001b[0m\n\u001b[0;32m----> 2\u001b[0;31m     \u001b[0mCpu_usage\u001b[0m \u001b[0;34m=\u001b[0m \u001b[0mcalc_CPU_usage\u001b[0m\u001b[0;34m(\u001b[0m\u001b[0;34m'ubuntu18.04-2'\u001b[0m\u001b[0;34m)\u001b[0m\u001b[0;34m\u001b[0m\u001b[0;34m\u001b[0m\u001b[0m\n\u001b[0m\u001b[1;32m      3\u001b[0m     \u001b[0mprint\u001b[0m\u001b[0;34m(\u001b[0m\u001b[0mCpu_usage\u001b[0m\u001b[0;34m)\u001b[0m\u001b[0;34m\u001b[0m\u001b[0;34m\u001b[0m\u001b[0m\n\u001b[1;32m      4\u001b[0m     \u001b[0;32mif\u001b[0m\u001b[0;34m(\u001b[0m\u001b[0mCpu_usage\u001b[0m\u001b[0;34m>\u001b[0m\u001b[0;36m50\u001b[0m\u001b[0;34m)\u001b[0m\u001b[0;34m:\u001b[0m\u001b[0;34m\u001b[0m\u001b[0;34m\u001b[0m\u001b[0m\n\u001b[1;32m      5\u001b[0m         \u001b[0mprint\u001b[0m\u001b[0;34m(\u001b[0m\u001b[0;34m\"Time to spawn a new VM!\"\u001b[0m\u001b[0;34m)\u001b[0m\u001b[0;34m\u001b[0m\u001b[0;34m\u001b[0m\u001b[0m\n",
      "\u001b[0;32m<ipython-input-9-34efd0f34816>\u001b[0m in \u001b[0;36mcalc_CPU_usage\u001b[0;34m(VM_name)\u001b[0m\n\u001b[1;32m      8\u001b[0m     \u001b[0mavg_cpututil\u001b[0m \u001b[0;34m=\u001b[0m\u001b[0;36m0\u001b[0m\u001b[0;34m;\u001b[0m\u001b[0;34m\u001b[0m\u001b[0;34m\u001b[0m\u001b[0m\n\u001b[1;32m      9\u001b[0m     \u001b[0;32mfor\u001b[0m \u001b[0mi\u001b[0m \u001b[0;32min\u001b[0m \u001b[0mrange\u001b[0m\u001b[0;34m(\u001b[0m\u001b[0;36m0\u001b[0m\u001b[0;34m,\u001b[0m\u001b[0;36m5\u001b[0m\u001b[0;34m)\u001b[0m\u001b[0;34m:\u001b[0m\u001b[0;34m\u001b[0m\u001b[0;34m\u001b[0m\u001b[0m\n\u001b[0;32m---> 10\u001b[0;31m         \u001b[0mcpu_time_fin\u001b[0m \u001b[0;34m=\u001b[0m \u001b[0mdom0\u001b[0m\u001b[0;34m.\u001b[0m\u001b[0mgetCPUStats\u001b[0m\u001b[0;34m(\u001b[0m\u001b[0;36m1\u001b[0m\u001b[0;34m)\u001b[0m\u001b[0;34m[\u001b[0m\u001b[0;36m0\u001b[0m\u001b[0;34m]\u001b[0m\u001b[0;34m[\u001b[0m\u001b[0;34m'cpu_time'\u001b[0m\u001b[0;34m]\u001b[0m\u001b[0;34m\u001b[0m\u001b[0;34m\u001b[0m\u001b[0m\n\u001b[0m\u001b[1;32m     11\u001b[0m         \u001b[0;31m#print(dom0.getCPUStats(1))\u001b[0m\u001b[0;34m\u001b[0m\u001b[0;34m\u001b[0m\u001b[0;34m\u001b[0m\u001b[0m\n\u001b[1;32m     12\u001b[0m         \u001b[0mdelta\u001b[0m \u001b[0;34m=\u001b[0m \u001b[0mcpu_time_fin\u001b[0m\u001b[0;34m-\u001b[0m\u001b[0mcpu_time_in\u001b[0m\u001b[0;34m\u001b[0m\u001b[0;34m\u001b[0m\u001b[0m\n",
      "\u001b[0;32m/home/ankita/.local/lib/python3.6/site-packages/libvirt.py\u001b[0m in \u001b[0;36mgetCPUStats\u001b[0;34m(self, total, flags)\u001b[0m\n\u001b[1;32m   1381\u001b[0m         \u001b[0mret\u001b[0m \u001b[0;34m=\u001b[0m \u001b[0mlibvirtmod\u001b[0m\u001b[0;34m.\u001b[0m\u001b[0mvirDomainGetCPUStats\u001b[0m\u001b[0;34m(\u001b[0m\u001b[0mself\u001b[0m\u001b[0;34m.\u001b[0m\u001b[0m_o\u001b[0m\u001b[0;34m,\u001b[0m \u001b[0mtotal\u001b[0m\u001b[0;34m,\u001b[0m \u001b[0mflags\u001b[0m\u001b[0;34m)\u001b[0m\u001b[0;34m\u001b[0m\u001b[0;34m\u001b[0m\u001b[0m\n\u001b[1;32m   1382\u001b[0m         \u001b[0;32mif\u001b[0m \u001b[0mret\u001b[0m \u001b[0;32mis\u001b[0m \u001b[0;32mNone\u001b[0m\u001b[0;34m:\u001b[0m\u001b[0;34m\u001b[0m\u001b[0;34m\u001b[0m\u001b[0m\n\u001b[0;32m-> 1383\u001b[0;31m             \u001b[0;32mraise\u001b[0m \u001b[0mlibvirtError\u001b[0m\u001b[0;34m(\u001b[0m\u001b[0;34m'virDomainGetCPUStats() failed'\u001b[0m\u001b[0;34m)\u001b[0m\u001b[0;34m\u001b[0m\u001b[0;34m\u001b[0m\u001b[0m\n\u001b[0m\u001b[1;32m   1384\u001b[0m         \u001b[0;32mreturn\u001b[0m \u001b[0mret\u001b[0m\u001b[0;34m\u001b[0m\u001b[0;34m\u001b[0m\u001b[0m\n\u001b[1;32m   1385\u001b[0m \u001b[0;34m\u001b[0m\u001b[0m\n",
      "\u001b[0;31mlibvirtError\u001b[0m: Requested operation is not valid: domain is not running"
=======
      "Time to spawn a new VM!\n",
      "Time to notify client!\n",
      "Connected to client node: 0.0.0.0\n"
>>>>>>> 4452cd4f93426132f7e6f17ede860d30a6b35499
     ]
    }
   ],
   "source": [
    "while True:\n",
    "    Cpu_usage = calc_CPU_usage('ubuntu18.04-2')\n",
<<<<<<< HEAD
    "    print(Cpu_usage)\n",
=======
>>>>>>> 4452cd4f93426132f7e6f17ede860d30a6b35499
    "    if(Cpu_usage>50):\n",
    "        print(\"Time to spawn a new VM!\")\n",
    "        spawn()\n",
    "        time.sleep(70) #For VM to boot up\n",
    "        print(\"Time to notify client!\")\n",
    "        notify_client()\n",
<<<<<<< HEAD
    "        #break"
=======
    "        print(\"Time to notify client!\")\n",
    "        notify_client()\n",
    "        break"
>>>>>>> 4452cd4f93426132f7e6f17ede860d30a6b35499
   ]
  }
 ],
 "metadata": {
  "kernelspec": {
   "display_name": "Python 3",
   "language": "python",
   "name": "python3"
  },
  "language_info": {
   "codemirror_mode": {
    "name": "ipython",
    "version": 3
   },
   "file_extension": ".py",
   "mimetype": "text/x-python",
   "name": "python",
   "nbconvert_exporter": "python",
   "pygments_lexer": "ipython3",
   "version": "3.6.9"
  }
 },
 "nbformat": 4,
 "nbformat_minor": 4
}
