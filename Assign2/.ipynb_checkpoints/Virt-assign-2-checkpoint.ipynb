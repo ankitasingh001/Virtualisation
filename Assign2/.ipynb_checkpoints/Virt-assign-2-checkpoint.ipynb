{
 "cells": [
  {
   "cell_type": "code",
   "execution_count": 19,
   "metadata": {},
   "outputs": [],
   "source": [
    "import libvirt\n",
    "import sys\n",
    "import threading\n",
    "import socket\n",
    "import ast\n",
    "from datetime import datetime\n",
    "import time\n",
    "import hashlib\n",
    "from random import shuffle\n",
    "import struct"
   ]
  },
  {
   "cell_type": "code",
   "execution_count": 20,
   "metadata": {},
   "outputs": [
    {
     "data": {
      "text/plain": [
       "'ankita-ThinkPad-E490'"
      ]
     },
     "execution_count": 20,
     "metadata": {},
     "output_type": "execute_result"
    }
   ],
   "source": [
    "conn = libvirt.open('qemu:///system')\n",
    "conn.getHostname()"
   ]
  },
  {
   "cell_type": "code",
   "execution_count": 21,
   "metadata": {},
   "outputs": [
    {
     "data": {
      "text/plain": [
       "16"
      ]
     },
     "execution_count": 21,
     "metadata": {},
     "output_type": "execute_result"
    }
   ],
   "source": [
    "conn.getMaxVcpus('qemu')"
   ]
  },
  {
   "cell_type": "code",
   "execution_count": 22,
   "metadata": {},
   "outputs": [
    {
     "data": {
      "text/plain": [
       "[3, 2]"
      ]
     },
     "execution_count": 22,
     "metadata": {},
     "output_type": "execute_result"
    }
   ],
   "source": [
    "#print(conn.getSysinfo()) //get system information\n",
    "conn.listDomainsID()"
   ]
  },
  {
   "cell_type": "code",
   "execution_count": 23,
   "metadata": {},
   "outputs": [],
   "source": [
    "'''\n",
    "See information about active VMs\n",
    "'''\n",
    "def active_VM_info():\n",
    "    domainIDs = conn.listDomainsID()\n",
    "    for domainID in domainIDs:\n",
    "        domain = conn.lookupByID(domainID)\n",
    "        uuid = domain.UUIDString()\n",
    "        print(\"INFORMATION FOR DOMAIN :\",uuid)\n",
    "        print(domain.info())\n",
    "        print(domain.OSType())\n",
    "        print(domain.getCPUStats(total=5))\n",
    "        print(domain.jobStats())\n",
    "    "
   ]
  },
  {
   "cell_type": "code",
   "execution_count": 24,
   "metadata": {},
   "outputs": [
    {
     "name": "stdout",
     "output_type": "stream",
     "text": [
      "INFORMATION FOR DOMAIN : d97ca0d0-556f-467d-9ee8-6dfb247a99f5\n",
      "[1, 1048576, 1048576, 1, 4230000000]\n",
      "hvm\n",
      "[{'cpu_time': 4239948603, 'user_time': 510000000, 'system_time': 1280000000}]\n",
      "{'type': 0}\n",
      "INFORMATION FOR DOMAIN : eaa5870f-be68-4e93-9274-d1351a3fef0a\n",
      "[1, 1048576, 1048576, 1, 1210420000000]\n",
      "hvm\n",
      "[{'cpu_time': 1218211231611, 'user_time': 102770000000, 'system_time': 242310000000}]\n",
      "{'type': 0}\n"
     ]
    }
   ],
   "source": [
    "active_VM_info()"
   ]
  },
  {
   "cell_type": "code",
   "execution_count": 25,
   "metadata": {},
   "outputs": [],
   "source": [
    "'''\n",
    "Spawn a new VM\n",
    "'''\n",
    "def spawn():\n",
    "    dom0 = conn.lookupByName('ubuntu18.04')\n",
    "    dom0.create()"
   ]
  },
  {
   "cell_type": "code",
   "execution_count": 26,
   "metadata": {},
   "outputs": [],
   "source": [
    "#spawn()"
   ]
  },
  {
   "cell_type": "code",
   "execution_count": 27,
   "metadata": {},
   "outputs": [],
   "source": [
    "'''\n",
    "Calculate CPU usage\n",
    "'''\n",
    "def calc_CPU_usage(VM_name):\n",
    "    dom0 = conn.lookupByName(VM_name)\n",
    "    cpu_time_in = dom0.getCPUStats(1)[0]['cpu_time']\n",
    "    time.sleep(1)\n",
    "    avg_cpututil =0;\n",
    "    for i in range(0,5):\n",
    "        cpu_time_fin = dom0.getCPUStats(1)[0]['cpu_time']\n",
    "        #print(dom0.getCPUStats(1))\n",
    "        delta = cpu_time_fin-cpu_time_in\n",
    "        avg_cpututil +=delta\n",
    "        cpu_time_in = cpu_time_fin\n",
    "        time.sleep(1)\n",
    "    return 100*avg_cpututil/(5*1000000000)"
   ]
  },
  {
   "cell_type": "code",
   "execution_count": 41,
   "metadata": {
    "scrolled": true
   },
   "outputs": [
    {
     "name": "stdout",
     "output_type": "stream",
     "text": [
      "[{'cpu_time': 1269387760648, 'user_time': 102890000000, 'system_time': 242540000000}]\n",
      "[{'cpu_time': 1269394098229, 'user_time': 102890000000, 'system_time': 242540000000}]\n",
      "[{'cpu_time': 1269402389019, 'user_time': 102890000000, 'system_time': 242540000000}]\n",
      "[{'cpu_time': 1269443691550, 'user_time': 102890000000, 'system_time': 242550000000}]\n",
      "[{'cpu_time': 1269453269558, 'user_time': 102890000000, 'system_time': 242550000000}]\n",
      "1.46638712\n"
     ]
    }
   ],
   "source": [
    "#print(calc_CPU_usage('ubuntu18.04'))\n",
    "#dom0.getCPUStats(1)[0]['cpu_time']\n",
    "print(calc_CPU_usage('ubuntu18.04-2'))"
   ]
  },
  {
   "cell_type": "markdown",
   "metadata": {},
   "source": [
    "Normally for a process on Linux, the overall CPU usage is simply the sum of the time spent in userspace and the time spent on kernel space. So naively one would have expected user_time + system_time to equal cpu_time. What I've discovered is that Linux tracks time spent by vCPU threads executing guest code separately from either userspace or kernelspace time.\n",
    "\n",
    "Thus cpu_time == user_time + system_time + guest_time\n",
    "\n",
    "So you can think of system_time + user_time as giving the overhead of QEMU / KVM on the host side. And cpu_time - (user_time + system_time) as giving the actual amount of time the guest OS was running its CPUs.\n",
    "\n",
    "To calculate CPU usage, you probably just want to record cpu_time every N seconds and calculate the delta between two samples. eg usage % = 100 * (cpu_time 2 - cpu_time 1) / N"
   ]
  },
  {
   "cell_type": "code",
   "execution_count": 29,
   "metadata": {},
   "outputs": [],
   "source": [
    "\n",
    "# f = open(\"abc.txt\", \"r\")\n",
    "# xmlconfig = f.read()\n",
    "# dom = conn.createXML(xmlconfig, 0)\n",
    "# if dom == None:\n",
    "#     print('Failed to create a domain from an XML definition.', file=sys.stderr)\n",
    "#     exit(1)\n",
    "\n",
    "# '''\n",
    "# The xml file used above does not contain any disk storage\n",
    "# Will need to declare it later\n",
    "# '''\n",
    "# # if dom.create() < 0:\n",
    "# #     print('Can not boot guest domain.', file=sys.stderr)\n",
    "# #     exit(1)\n",
    "# print('Guest '+dom.name()+' has booted', file=sys.stderr)\n"
   ]
  },
  {
   "cell_type": "code",
   "execution_count": null,
   "metadata": {},
   "outputs": [],
   "source": []
  },
  {
   "cell_type": "code",
   "execution_count": 58,
   "metadata": {},
   "outputs": [],
   "source": [
    "\n",
    "'''\n",
    "To notify client about new VM\n",
    "'''\n",
    "\n",
    "IPAddr = \"127.0.1.1\"\n",
    "port = 10010\n",
    "\n",
    "client_ip =\"0.0.0.0\"\n",
    "client_port=10011\n",
    "\n",
    "# socket_list = []\n",
    "# msg_list = []\n",
    "# lock = threading.Lock()\n",
    "\n",
    "def notify_client():\n",
    "    \n",
    "    while True:\n",
    "        print(\"1 Start of while\")\n",
    "        k=0\n",
    "        connected_seeds=0\n",
    "        node = \"\"\n",
    "        for i in range(0,5):\n",
    "            print(\"2 Start of for\")\n",
    "            try: #get other peers info from seed node(s)\n",
    "                s = socket.socket(socket.AF_INET, socket.SOCK_STREAM)\n",
    "                s.connect((client_ip, client_port))\n",
    "                print(\"4 Connected to client node:\", client_ip)\n",
    "                values = (b'news', port)\n",
    "                packer = struct.Struct('4s I')\n",
    "                packed_data = packer.pack(*values)\n",
    "                s.sendall(packed_data)\n",
    "                data = s.recv(1024)\n",
    "                data = data.decode('utf-8')\n",
    "                \n",
    "#                 print(\"5 Got data from seed node %s:%s \" % (node, data))\n",
    "#                 data = ast.literal_eval(data)\n",
    "#                 p_list.extend(data)\n",
    "#                 p_list = list(set(p_list))\n",
    "#                 print(\"6 Peer list after connecting to seed node: \"+node+\" : \"+str(p_list))\n",
    "                s.close()\n",
    "                break\n",
    "            except:\n",
    "                print(\"7 Error while connection to seed node or fetching Peer list:\", sys.exc_info()[1])\n",
    "                k+=1\n",
    "                s.close()\n",
    "                continue\n",
    "        \n",
    "\n",
    "        break\n",
    "        print(\"10 Retrying after 5sec...\")\n",
    "        time.sleep(5)"
   ]
  },
  {
   "cell_type": "code",
   "execution_count": null,
   "metadata": {},
   "outputs": [
    {
     "name": "stdout",
     "output_type": "stream",
     "text": [
      "1 Start of while\n",
      "2 Start of for\n",
      "4 Connected to client node: 0.0.0.0\n"
     ]
    }
   ],
   "source": [
    "notify_client()"
   ]
  },
  {
   "cell_type": "code",
   "execution_count": null,
   "metadata": {},
   "outputs": [],
   "source": [
    "while True:\n",
    "    Cpu_usage = calc_CPU_usage('ubuntu18.04-2')\n",
    "    if(Cpu_usage>40):\n",
    "        "
   ]
  }
 ],
 "metadata": {
  "kernelspec": {
   "display_name": "Python 3",
   "language": "python",
   "name": "python3"
  },
  "language_info": {
   "codemirror_mode": {
    "name": "ipython",
    "version": 3
   },
   "file_extension": ".py",
   "mimetype": "text/x-python",
   "name": "python",
   "nbconvert_exporter": "python",
   "pygments_lexer": "ipython3",
   "version": "3.6.9"
  }
 },
 "nbformat": 4,
 "nbformat_minor": 4
}
