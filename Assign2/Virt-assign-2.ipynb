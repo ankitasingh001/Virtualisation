{
 "cells": [
  {
   "cell_type": "code",
   "execution_count": 1,
   "metadata": {},
   "outputs": [],
   "source": [
    "import libvirt\n",
    "import sys\n",
    "import threading\n",
    "import socket\n",
    "import ast\n",
    "from datetime import datetime\n",
    "import time\n",
    "import hashlib\n",
    "from random import shuffle\n",
    "import struct"
   ]
  },
  {
   "cell_type": "code",
   "execution_count": 2,
   "metadata": {},
   "outputs": [
    {
     "data": {
      "text/plain": [
       "'ankita-ThinkPad-E490'"
      ]
     },
     "execution_count": 2,
     "metadata": {},
     "output_type": "execute_result"
    }
   ],
   "source": [
    "conn = libvirt.open('qemu:///system')\n",
    "conn.getHostname()"
   ]
  },
  {
   "cell_type": "code",
   "execution_count": 3,
   "metadata": {},
   "outputs": [
    {
     "data": {
      "text/plain": [
       "16"
      ]
     },
     "execution_count": 3,
     "metadata": {},
     "output_type": "execute_result"
    }
   ],
   "source": [
    "conn.getMaxVcpus('qemu')"
   ]
  },
  {
   "cell_type": "code",
   "execution_count": 4,
   "metadata": {},
   "outputs": [
    {
     "data": {
      "text/plain": [
       "[3]"
      ]
     },
     "execution_count": 4,
     "metadata": {},
     "output_type": "execute_result"
    }
   ],
   "source": [
    "#print(conn.getSysinfo()) //get system information\n",
    "conn.listDomainsID()"
   ]
  },
  {
   "cell_type": "code",
   "execution_count": 5,
   "metadata": {},
   "outputs": [],
   "source": [
    "'''\n",
    "See information about active VMs\n",
    "'''\n",
    "def active_VM_info():\n",
    "    domainIDs = conn.listDomainsID()\n",
    "    for domainID in domainIDs:\n",
    "        domain = conn.lookupByID(domainID)\n",
    "        uuid = domain.UUIDString()\n",
    "        print(\"INFORMATION FOR DOMAIN :\",uuid)\n",
    "        print(domain.info())\n",
    "        print(domain.OSType())\n",
    "        print(domain.getCPUStats(total=5))\n",
    "        print(domain.jobStats())\n",
    "    "
   ]
  },
  {
   "cell_type": "code",
   "execution_count": 6,
   "metadata": {},
   "outputs": [
    {
     "name": "stdout",
     "output_type": "stream",
     "text": [
      "INFORMATION FOR DOMAIN : eaa5870f-be68-4e93-9274-d1351a3fef0a\n",
      "[1, 1048576, 1048576, 1, 10930000000]\n",
      "hvm\n",
      "[{'cpu_time': 10948265289, 'user_time': 910000000, 'system_time': 1640000000}]\n",
      "{'type': 0}\n"
     ]
    }
   ],
   "source": [
    "active_VM_info()"
   ]
  },
  {
   "cell_type": "code",
   "execution_count": 7,
   "metadata": {},
   "outputs": [],
   "source": [
    "'''\n",
    "Spawn a new VM\n",
    "'''\n",
    "def spawn():\n",
    "    dom0 = conn.lookupByName('ubuntu18.04-3')\n",
    "    dom0.create()"
   ]
  },
  {
   "cell_type": "code",
   "execution_count": 8,
   "metadata": {},
   "outputs": [],
   "source": [
    "#spawn()"
   ]
  },
  {
   "cell_type": "code",
   "execution_count": 9,
   "metadata": {},
   "outputs": [],
   "source": [
    "'''\n",
    "Calculate CPU usage\n",
    "'''\n",
    "def calc_CPU_usage(VM_name):\n",
    "    dom0 = conn.lookupByName(VM_name)\n",
    "    cpu_time_in = dom0.getCPUStats(1)[0]['cpu_time']\n",
    "    time.sleep(1)\n",
    "    avg_cpututil =0;\n",
    "    for i in range(0,5):\n",
    "        cpu_time_fin = dom0.getCPUStats(1)[0]['cpu_time']\n",
    "        #print(dom0.getCPUStats(1))\n",
    "        delta = cpu_time_fin-cpu_time_in\n",
    "        avg_cpututil +=delta\n",
    "        cpu_time_in = cpu_time_fin\n",
    "        time.sleep(1)\n",
    "    return 100*avg_cpututil/(5*1000000000)"
   ]
  },
  {
   "cell_type": "code",
   "execution_count": 10,
   "metadata": {
    "scrolled": true
   },
   "outputs": [
    {
     "name": "stdout",
     "output_type": "stream",
     "text": [
      "0.34888868\n"
     ]
    }
   ],
   "source": [
    "#print(calc_CPU_usage('ubuntu18.04'))\n",
    "#dom0.getCPUStats(1)[0]['cpu_time']\n",
    "print(calc_CPU_usage('ubuntu18.04-2'))"
   ]
  },
  {
   "cell_type": "markdown",
   "metadata": {},
   "source": [
    "Normally for a process on Linux, the overall CPU usage is simply the sum of the time spent in userspace and the time spent on kernel space. So naively one would have expected user_time + system_time to equal cpu_time. What I've discovered is that Linux tracks time spent by vCPU threads executing guest code separately from either userspace or kernelspace time.\n",
    "\n",
    "Thus cpu_time == user_time + system_time + guest_time\n",
    "\n",
    "So you can think of system_time + user_time as giving the overhead of QEMU / KVM on the host side. And cpu_time - (user_time + system_time) as giving the actual amount of time the guest OS was running its CPUs.\n",
    "\n",
    "To calculate CPU usage, you probably just want to record cpu_time every N seconds and calculate the delta between two samples. eg usage % = 100 * (cpu_time 2 - cpu_time 1) / N"
   ]
  },
  {
   "cell_type": "code",
   "execution_count": 11,
   "metadata": {},
   "outputs": [],
   "source": [
    "\n",
    "# f = open(\"abc.txt\", \"r\")\n",
    "# xmlconfig = f.read()\n",
    "# dom = conn.createXML(xmlconfig, 0)\n",
    "# if dom == None:\n",
    "#     print('Failed to create a domain from an XML definition.', file=sys.stderr)\n",
    "#     exit(1)\n",
    "\n",
    "# '''\n",
    "# The xml file used above does not contain any disk storage\n",
    "# Will need to declare it later\n",
    "# '''\n",
    "# # if dom.create() < 0:\n",
    "# #     print('Can not boot guest domain.', file=sys.stderr)\n",
    "# #     exit(1)\n",
    "# print('Guest '+dom.name()+' has booted', file=sys.stderr)\n"
   ]
  },
  {
   "cell_type": "code",
   "execution_count": null,
   "metadata": {},
   "outputs": [],
   "source": []
  },
  {
   "cell_type": "code",
   "execution_count": 12,
   "metadata": {},
   "outputs": [],
   "source": [
    "\n",
    "'''\n",
    "To notify client about new VM\n",
    "'''\n",
    "\n",
    "IPAddr = \"127.0.1.1\"\n",
    "port = 10010\n",
    "\n",
    "client_ip =\"0.0.0.0\"\n",
    "#client_ip =\"192.168.122.186\"\n",
    "client_port=10011\n",
    "\n",
    "def notify_client():\n",
    "    \n",
    "    while True:\n",
    "        k=0\n",
    "        connected_seeds=0\n",
    "        node = \"\"\n",
    "        for i in range(0,5):\n",
    "            try: #get other peers info from seed node(s)\n",
    "                s = socket.socket(socket.AF_INET, socket.SOCK_STREAM)\n",
    "                s.connect((client_ip, client_port))\n",
    "                print(\"Connected to client node:\", client_ip)\n",
    "                values = (b'news', port)\n",
    "                packer = struct.Struct('4s I')\n",
    "                packed_data = packer.pack(*values)\n",
    "                for j in range(0,5):\n",
    "                    s.sendall(packed_data)\n",
    "                    time.sleep(0.12)\n",
    "#                 data = s.recv(1024)\n",
    "#                 data = data.decode('utf-8')\n",
    "                s.close()\n",
    "                break\n",
    "            except:\n",
    "                print(\"Error while connection to seed node or fetching Peer list:\", sys.exc_info()[1])\n",
    "                k+=1\n",
    "                s.close()\n",
    "                continue\n",
    "        \n",
    "\n",
    "        break\n",
    "        print(\"Retrying after 5 sec...\")\n",
    "        time.sleep(5)"
   ]
  },
  {
   "cell_type": "code",
   "execution_count": null,
   "metadata": {
    "scrolled": true
   },
   "outputs": [],
   "source": []
  },
  {
   "cell_type": "code",
   "execution_count": null,
   "metadata": {},
   "outputs": [
    {
     "name": "stdout",
     "output_type": "stream",
     "text": [
      "0.62762782\n",
      "16.34337438\n",
      "0.8771427\n",
      "3.5413681\n",
      "2.52537826\n",
      "0.52512212\n",
      "0.41729368\n",
      "0.32781594\n",
      "0.38093788\n",
      "0.30925676\n",
      "0.37389318\n",
      "11.62850062\n",
      "40.40050074\n",
      "40.37079094\n",
      "36.54009494\n",
      "36.20454532\n",
      "39.25146908\n",
      "40.53321284\n",
      "36.23663618\n",
      "0.35983152\n",
      "23.78799512\n",
      "72.67900368\n",
      "Time to spawn a new VM!\n",
      "Time to notify client!\n",
      "Connected to client node: 0.0.0.0\n",
      "36.07900092\n",
      "36.78379616\n",
      "35.04654732\n",
      "35.8309373\n",
      "33.9348292\n",
      "39.8219842\n",
      "34.61792714\n",
      "36.33364084\n",
      "34.14478488\n",
      "35.82139308\n",
      "33.97719902\n",
      "37.14034266\n",
      "35.38417876\n",
      "35.91512582\n",
      "33.60662162\n",
      "40.4562288\n",
      "36.29727552\n",
      "37.8225885\n",
      "37.0442403\n",
      "36.77439322\n",
      "37.67211824\n",
      "33.2118388\n",
      "37.95767188\n",
      "32.7045908\n",
      "37.90370874\n",
      "38.59375804\n",
      "32.83917798\n",
      "38.45666638\n",
      "33.40127318\n",
      "38.1755402\n",
      "38.64435982\n",
      "33.10122944\n",
      "38.51670688\n",
      "33.30982968\n",
      "37.14951554\n",
      "40.15388934\n",
      "35.7316332\n",
      "36.77028278\n",
      "36.8419362\n",
      "36.83284466\n",
      "35.95420314\n",
      "36.12800204\n",
      "37.2329999\n",
      "34.45405794\n",
      "35.78842962\n",
      "37.16992128\n",
      "36.51338588\n",
      "37.06020332\n",
      "36.02038232\n",
      "38.07925134\n",
      "33.66226338\n",
      "36.6036449\n",
      "36.53597598\n",
      "36.34123488\n",
      "36.1671322\n",
      "40.0601737\n",
      "33.23126776\n",
      "37.8494909\n",
      "34.53341758\n",
      "37.55637956\n"
     ]
    }
   ],
   "source": [
    "while True:\n",
    "    Cpu_usage = calc_CPU_usage('ubuntu18.04-2')\n",
    "    print(Cpu_usage)\n",
    "    if(Cpu_usage>50):\n",
    "        print(\"Time to spawn a new VM!\")\n",
    "        spawn()\n",
    "        time.sleep(70) #For VM to boot up\n",
    "        print(\"Time to notify client!\")\n",
    "        notify_client()\n",
    "        #break"
   ]
  }
 ],
 "metadata": {
  "kernelspec": {
   "display_name": "Python 3",
   "language": "python",
   "name": "python3"
  },
  "language_info": {
   "codemirror_mode": {
    "name": "ipython",
    "version": 3
   },
   "file_extension": ".py",
   "mimetype": "text/x-python",
   "name": "python",
   "nbconvert_exporter": "python",
   "pygments_lexer": "ipython3",
   "version": "3.6.9"
  }
 },
 "nbformat": 4,
 "nbformat_minor": 4
}
